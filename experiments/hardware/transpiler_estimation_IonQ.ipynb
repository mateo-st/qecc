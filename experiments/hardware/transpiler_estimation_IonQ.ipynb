{
 "cells": [
  {
   "cell_type": "markdown",
   "metadata": {},
   "source": [
    "# Transpiler estimation of IonQ"
   ]
  },
  {
   "cell_type": "code",
   "execution_count": 47,
   "metadata": {},
   "outputs": [],
   "source": [
    "from qiskit import QuantumCircuit, QuantumRegister\n",
    "from qiskit.quantum_info.operators import Operator\n",
    "from qiskit.circuit import Parameter\n",
    "from qiskit.circuit.library import GlobalPhaseGate\n",
    "from math import pi\n",
    "from qiskit import transpile"
   ]
  },
  {
   "cell_type": "markdown",
   "metadata": {},
   "source": [
    "### Definición de $GPi(\\phi)$\n",
    "\n",
    "Para crear el circuito usamos que $\\textcolor{Orange}{GPi(\\phi) = -iR_z(2\\phi)R_x(\\pi)}$"
   ]
  },
  {
   "cell_type": "code",
   "execution_count": 73,
   "metadata": {},
   "outputs": [
    {
     "data": {
      "image/png": "[encoded data removed]",
      "text/plain": [
       "<Figure size 436.286x117.056 with 1 Axes>"
      ]
     },
     "execution_count": 73,
     "metadata": {},
     "output_type": "execute_result"
    }
   ],
   "source": [
    "GPi_circuit = QuantumCircuit(1, name='GPi', global_phase=-pi/2)\n",
    "phi = Parameter('phi')\n",
    "\n",
    "GPi_circuit.rx(theta=pi, qubit=0)\n",
    "GPi_circuit.h(0)\n",
    "GPi_circuit.rx(theta=phi, qubit=0)\n",
    "GPi_circuit.h(0)\n",
    "\n",
    "GPi = GPi_circuit.to_gate()\n",
    "\n",
    "GPi_circuit.draw(\"mpl\")"
   ]
  },
  {
   "cell_type": "markdown",
   "metadata": {},
   "source": [
    "### Definición de $GPi2(\\phi)$\n",
    "\n",
    "Para crear el circuito usamos que $\\textcolor{Orange}{GPi2(\\phi) = R_z(\\phi)R_x(\\pi/2)R_z(-\\phi)}$"
   ]
  },
  {
   "cell_type": "code",
   "execution_count": 74,
   "metadata": {},
   "outputs": [
    {
     "data": {
      "image/png": "[encoded data removed]",
      "text/plain": [
       "<Figure size 687.119x117.056 with 1 Axes>"
      ]
     },
     "execution_count": 74,
     "metadata": {},
     "output_type": "execute_result"
    }
   ],
   "source": [
    "GPi2_circuit = QuantumCircuit(1, name=\"GPi2\")\n",
    "\n",
    "\n",
    "GPi2_circuit.h(0)\n",
    "GPi2_circuit.rx(theta=-phi, qubit = 0)\n",
    "GPi2_circuit.h(0)\n",
    "GPi2_circuit.rx(theta=pi/2, qubit=0)\n",
    "GPi2_circuit.h(0)\n",
    "GPi2_circuit.rx(theta=phi, qubit=0)\n",
    "GPi2_circuit.h(0)\n",
    "\n",
    "GPi2 = GPi2_circuit.to_gate()\n",
    "\n",
    "GPi2_circuit.draw(\"mpl\")"
   ]
  },
  {
   "cell_type": "code",
   "execution_count": 96,
   "metadata": {},
   "outputs": [
    {
     "data": {
      "image/png": "[encoded data removed]",
      "text/plain": [
       "<Figure size 352.675x117.056 with 1 Axes>"
      ]
     },
     "execution_count": 96,
     "metadata": {},
     "output_type": "execute_result"
    }
   ],
   "source": [
    "qc = QuantumCircuit(1)\n",
    "\n",
    "qc.append(GPi2, [0])\n",
    "qc.z(0)\n",
    "qc.x(0)\n",
    "\n",
    "bc = qc.assign_parameters({phi: 2})\n",
    "\n",
    "bc.draw(\"mpl\")"
   ]
  },
  {
   "cell_type": "code",
   "execution_count": 94,
   "metadata": {},
   "outputs": [
    {
     "ename": "TranspilerError",
     "evalue": "'Unable to translate the operations in the circuit: [\"GPi\", \"x\", \"z\"] to the backend\\'s (or manually specified) target basis: {\"switch_case\", \"if_else\", \"GPi2\", \"delay\", \"while_loop\", \"measure\", \"GPi\", \"rz\", \"store\", \"barrier\", \"for_loop\", \"reset\", \"snapshot\"}. This likely means the target basis is not universal or there are additional equivalence rules needed in the EquivalenceLibrary being used. For more details on this error see: https://docs.quantum.ibm.com/api/qiskit/qiskit.transpiler.passes. BasisTranslator#translation-errors'",
     "output_type": "error",
     "traceback": [
      "\u001b[1;31m---------------------------------------------------------------------------\u001b[0m",
      "\u001b[1;31mTranspilerError\u001b[0m                           Traceback (most recent call last)",
      "File \u001b[1;32mc:\\Users\\ffuidio\\anaconda3\\envs\\qc_course\\Lib\\site-packages\\qiskit\\transpiler\\passmanager.py:464\u001b[0m, in \u001b[0;36m_replace_error.<locals>.wrapper\u001b[1;34m(*meth_args, **meth_kwargs)\u001b[0m\n\u001b[0;32m    463\u001b[0m \u001b[38;5;28;01mtry\u001b[39;00m:\n\u001b[1;32m--> 464\u001b[0m     \u001b[38;5;28;01mreturn\u001b[39;00m \u001b[43mmeth\u001b[49m\u001b[43m(\u001b[49m\u001b[38;5;241;43m*\u001b[39;49m\u001b[43mmeth_args\u001b[49m\u001b[43m,\u001b[49m\u001b[43m \u001b[49m\u001b[38;5;241;43m*\u001b[39;49m\u001b[38;5;241;43m*\u001b[39;49m\u001b[43mmeth_kwargs\u001b[49m\u001b[43m)\u001b[49m\n\u001b[0;32m    465\u001b[0m \u001b[38;5;28;01mexcept\u001b[39;00m PassManagerError \u001b[38;5;28;01mas\u001b[39;00m ex:\n",
      "File \u001b[1;32mc:\\Users\\ffuidio\\anaconda3\\envs\\qc_course\\Lib\\site-packages\\qiskit\\transpiler\\passmanager.py:226\u001b[0m, in \u001b[0;36mPassManager.run\u001b[1;34m(self, circuits, output_name, callback, num_processes)\u001b[0m\n\u001b[0;32m    224\u001b[0m     callback \u001b[38;5;241m=\u001b[39m _legacy_style_callback(callback)\n\u001b[1;32m--> 226\u001b[0m \u001b[38;5;28;01mreturn\u001b[39;00m \u001b[38;5;28;43msuper\u001b[39;49m\u001b[43m(\u001b[49m\u001b[43m)\u001b[49m\u001b[38;5;241;43m.\u001b[39;49m\u001b[43mrun\u001b[49m\u001b[43m(\u001b[49m\n\u001b[0;32m    227\u001b[0m \u001b[43m    \u001b[49m\u001b[43min_programs\u001b[49m\u001b[38;5;241;43m=\u001b[39;49m\u001b[43mcircuits\u001b[49m\u001b[43m,\u001b[49m\n\u001b[0;32m    228\u001b[0m \u001b[43m    \u001b[49m\u001b[43mcallback\u001b[49m\u001b[38;5;241;43m=\u001b[39;49m\u001b[43mcallback\u001b[49m\u001b[43m,\u001b[49m\n\u001b[0;32m    229\u001b[0m \u001b[43m    \u001b[49m\u001b[43moutput_name\u001b[49m\u001b[38;5;241;43m=\u001b[39;49m\u001b[43moutput_name\u001b[49m\u001b[43m,\u001b[49m\n\u001b[0;32m    230\u001b[0m \u001b[43m    \u001b[49m\u001b[43mnum_processes\u001b[49m\u001b[38;5;241;43m=\u001b[39;49m\u001b[43mnum_processes\u001b[49m\u001b[43m,\u001b[49m\n\u001b[0;32m    231\u001b[0m \u001b[43m\u001b[49m\u001b[43m)\u001b[49m\n",
      "File \u001b[1;32mc:\\Users\\ffuidio\\anaconda3\\envs\\qc_course\\Lib\\site-packages\\qiskit\\passmanager\\passmanager.py:232\u001b[0m, in \u001b[0;36mBasePassManager.run\u001b[1;34m(self, in_programs, callback, num_processes, **kwargs)\u001b[0m\n\u001b[0;32m    230\u001b[0m \u001b[38;5;28;01mif\u001b[39;00m \u001b[38;5;28mlen\u001b[39m(in_programs) \u001b[38;5;241m==\u001b[39m \u001b[38;5;241m1\u001b[39m \u001b[38;5;129;01mor\u001b[39;00m \u001b[38;5;129;01mnot\u001b[39;00m should_run_in_parallel(num_processes):\n\u001b[0;32m    231\u001b[0m     out \u001b[38;5;241m=\u001b[39m [\n\u001b[1;32m--> 232\u001b[0m         \u001b[43m_run_workflow\u001b[49m\u001b[43m(\u001b[49m\u001b[43mprogram\u001b[49m\u001b[38;5;241;43m=\u001b[39;49m\u001b[43mprogram\u001b[49m\u001b[43m,\u001b[49m\u001b[43m \u001b[49m\u001b[43mpass_manager\u001b[49m\u001b[38;5;241;43m=\u001b[39;49m\u001b[38;5;28;43mself\u001b[39;49m\u001b[43m,\u001b[49m\u001b[43m \u001b[49m\u001b[43mcallback\u001b[49m\u001b[38;5;241;43m=\u001b[39;49m\u001b[43mcallback\u001b[49m\u001b[43m,\u001b[49m\u001b[43m \u001b[49m\u001b[38;5;241;43m*\u001b[39;49m\u001b[38;5;241;43m*\u001b[39;49m\u001b[43mkwargs\u001b[49m\u001b[43m)\u001b[49m\n\u001b[0;32m    233\u001b[0m         \u001b[38;5;28;01mfor\u001b[39;00m program \u001b[38;5;129;01min\u001b[39;00m in_programs\n\u001b[0;32m    234\u001b[0m     ]\n\u001b[0;32m    235\u001b[0m     \u001b[38;5;28;01mif\u001b[39;00m \u001b[38;5;28mlen\u001b[39m(in_programs) \u001b[38;5;241m==\u001b[39m \u001b[38;5;241m1\u001b[39m \u001b[38;5;129;01mand\u001b[39;00m \u001b[38;5;129;01mnot\u001b[39;00m is_list:\n",
      "File \u001b[1;32mc:\\Users\\ffuidio\\anaconda3\\envs\\qc_course\\Lib\\site-packages\\qiskit\\passmanager\\passmanager.py:292\u001b[0m, in \u001b[0;36m_run_workflow\u001b[1;34m(program, pass_manager, **kwargs)\u001b[0m\n\u001b[0;32m    288\u001b[0m passmanager_ir \u001b[38;5;241m=\u001b[39m pass_manager\u001b[38;5;241m.\u001b[39m_passmanager_frontend(\n\u001b[0;32m    289\u001b[0m     input_program\u001b[38;5;241m=\u001b[39mprogram,\n\u001b[0;32m    290\u001b[0m     \u001b[38;5;241m*\u001b[39m\u001b[38;5;241m*\u001b[39mkwargs,\n\u001b[0;32m    291\u001b[0m )\n\u001b[1;32m--> 292\u001b[0m passmanager_ir, final_state \u001b[38;5;241m=\u001b[39m \u001b[43mflow_controller\u001b[49m\u001b[38;5;241;43m.\u001b[39;49m\u001b[43mexecute\u001b[49m\u001b[43m(\u001b[49m\n\u001b[0;32m    293\u001b[0m \u001b[43m    \u001b[49m\u001b[43mpassmanager_ir\u001b[49m\u001b[38;5;241;43m=\u001b[39;49m\u001b[43mpassmanager_ir\u001b[49m\u001b[43m,\u001b[49m\n\u001b[0;32m    294\u001b[0m \u001b[43m    \u001b[49m\u001b[43mstate\u001b[49m\u001b[38;5;241;43m=\u001b[39;49m\u001b[43mPassManagerState\u001b[49m\u001b[43m(\u001b[49m\n\u001b[0;32m    295\u001b[0m \u001b[43m        \u001b[49m\u001b[43mworkflow_status\u001b[49m\u001b[38;5;241;43m=\u001b[39;49m\u001b[43minitial_status\u001b[49m\u001b[43m,\u001b[49m\n\u001b[0;32m    296\u001b[0m \u001b[43m        \u001b[49m\u001b[43mproperty_set\u001b[49m\u001b[38;5;241;43m=\u001b[39;49m\u001b[43mPropertySet\u001b[49m\u001b[43m(\u001b[49m\u001b[43m)\u001b[49m\u001b[43m,\u001b[49m\n\u001b[0;32m    297\u001b[0m \u001b[43m    \u001b[49m\u001b[43m)\u001b[49m\u001b[43m,\u001b[49m\n\u001b[0;32m    298\u001b[0m \u001b[43m    \u001b[49m\u001b[43mcallback\u001b[49m\u001b[38;5;241;43m=\u001b[39;49m\u001b[43mkwargs\u001b[49m\u001b[38;5;241;43m.\u001b[39;49m\u001b[43mget\u001b[49m\u001b[43m(\u001b[49m\u001b[38;5;124;43m\"\u001b[39;49m\u001b[38;5;124;43mcallback\u001b[39;49m\u001b[38;5;124;43m\"\u001b[39;49m\u001b[43m,\u001b[49m\u001b[43m \u001b[49m\u001b[38;5;28;43;01mNone\u001b[39;49;00m\u001b[43m)\u001b[49m\u001b[43m,\u001b[49m\n\u001b[0;32m    299\u001b[0m \u001b[43m\u001b[49m\u001b[43m)\u001b[49m\n\u001b[0;32m    300\u001b[0m \u001b[38;5;66;03m# The `property_set` has historically been returned as a mutable attribute on `PassManager`\u001b[39;00m\n\u001b[0;32m    301\u001b[0m \u001b[38;5;66;03m# This makes us non-reentrant (though `PassManager` would be dependent on its internal tasks to\u001b[39;00m\n\u001b[0;32m    302\u001b[0m \u001b[38;5;66;03m# be re-entrant if that was required), but is consistent with previous interfaces.  We're still\u001b[39;00m\n\u001b[0;32m    303\u001b[0m \u001b[38;5;66;03m# safe to be called in a serial loop, again assuming internal tasks are re-runnable.  The\u001b[39;00m\n\u001b[0;32m    304\u001b[0m \u001b[38;5;66;03m# conversion to the backend language is also allowed to use the property set, so it must be set\u001b[39;00m\n\u001b[0;32m    305\u001b[0m \u001b[38;5;66;03m# before calling it.\u001b[39;00m\n",
      "File \u001b[1;32mc:\\Users\\ffuidio\\anaconda3\\envs\\qc_course\\Lib\\site-packages\\qiskit\\passmanager\\base_tasks.py:218\u001b[0m, in \u001b[0;36mBaseController.execute\u001b[1;34m(self, passmanager_ir, state, callback)\u001b[0m\n\u001b[0;32m    217\u001b[0m \u001b[38;5;28;01mwhile\u001b[39;00m \u001b[38;5;28;01mTrue\u001b[39;00m:\n\u001b[1;32m--> 218\u001b[0m     passmanager_ir, state \u001b[38;5;241m=\u001b[39m \u001b[43mnext_task\u001b[49m\u001b[38;5;241;43m.\u001b[39;49m\u001b[43mexecute\u001b[49m\u001b[43m(\u001b[49m\n\u001b[0;32m    219\u001b[0m \u001b[43m        \u001b[49m\u001b[43mpassmanager_ir\u001b[49m\u001b[38;5;241;43m=\u001b[39;49m\u001b[43mpassmanager_ir\u001b[49m\u001b[43m,\u001b[49m\n\u001b[0;32m    220\u001b[0m \u001b[43m        \u001b[49m\u001b[43mstate\u001b[49m\u001b[38;5;241;43m=\u001b[39;49m\u001b[43mstate\u001b[49m\u001b[43m,\u001b[49m\n\u001b[0;32m    221\u001b[0m \u001b[43m        \u001b[49m\u001b[43mcallback\u001b[49m\u001b[38;5;241;43m=\u001b[39;49m\u001b[43mcallback\u001b[49m\u001b[43m,\u001b[49m\n\u001b[0;32m    222\u001b[0m \u001b[43m    \u001b[49m\u001b[43m)\u001b[49m\n\u001b[0;32m    223\u001b[0m     \u001b[38;5;28;01mtry\u001b[39;00m:\n\u001b[0;32m    224\u001b[0m         \u001b[38;5;66;03m# Sending the object through the generator implies the custom controllers\u001b[39;00m\n\u001b[0;32m    225\u001b[0m         \u001b[38;5;66;03m# can always rely on the latest data to choose the next task to run.\u001b[39;00m\n",
      "File \u001b[1;32mc:\\Users\\ffuidio\\anaconda3\\envs\\qc_course\\Lib\\site-packages\\qiskit\\transpiler\\basepasses.py:195\u001b[0m, in \u001b[0;36mTransformationPass.execute\u001b[1;34m(self, passmanager_ir, state, callback)\u001b[0m\n\u001b[0;32m    189\u001b[0m \u001b[38;5;28;01mdef\u001b[39;00m \u001b[38;5;21mexecute\u001b[39m(\n\u001b[0;32m    190\u001b[0m     \u001b[38;5;28mself\u001b[39m,\n\u001b[0;32m    191\u001b[0m     passmanager_ir: PassManagerIR,\n\u001b[0;32m    192\u001b[0m     state: PassManagerState,\n\u001b[0;32m    193\u001b[0m     callback: Callable \u001b[38;5;241m=\u001b[39m \u001b[38;5;28;01mNone\u001b[39;00m,\n\u001b[0;32m    194\u001b[0m ) \u001b[38;5;241m-\u001b[39m\u001b[38;5;241m>\u001b[39m \u001b[38;5;28mtuple\u001b[39m[PassManagerIR, PassManagerState]:\n\u001b[1;32m--> 195\u001b[0m     new_dag, state \u001b[38;5;241m=\u001b[39m \u001b[38;5;28;43msuper\u001b[39;49m\u001b[43m(\u001b[49m\u001b[43m)\u001b[49m\u001b[38;5;241;43m.\u001b[39;49m\u001b[43mexecute\u001b[49m\u001b[43m(\u001b[49m\n\u001b[0;32m    196\u001b[0m \u001b[43m        \u001b[49m\u001b[43mpassmanager_ir\u001b[49m\u001b[38;5;241;43m=\u001b[39;49m\u001b[43mpassmanager_ir\u001b[49m\u001b[43m,\u001b[49m\n\u001b[0;32m    197\u001b[0m \u001b[43m        \u001b[49m\u001b[43mstate\u001b[49m\u001b[38;5;241;43m=\u001b[39;49m\u001b[43mstate\u001b[49m\u001b[43m,\u001b[49m\n\u001b[0;32m    198\u001b[0m \u001b[43m        \u001b[49m\u001b[43mcallback\u001b[49m\u001b[38;5;241;43m=\u001b[39;49m\u001b[43mcallback\u001b[49m\u001b[43m,\u001b[49m\n\u001b[0;32m    199\u001b[0m \u001b[43m    \u001b[49m\u001b[43m)\u001b[49m\n\u001b[0;32m    201\u001b[0m     \u001b[38;5;28;01mif\u001b[39;00m state\u001b[38;5;241m.\u001b[39mworkflow_status\u001b[38;5;241m.\u001b[39mprevious_run \u001b[38;5;241m==\u001b[39m RunState\u001b[38;5;241m.\u001b[39mSUCCESS:\n",
      "File \u001b[1;32mc:\\Users\\ffuidio\\anaconda3\\envs\\qc_course\\Lib\\site-packages\\qiskit\\passmanager\\base_tasks.py:98\u001b[0m, in \u001b[0;36mGenericPass.execute\u001b[1;34m(self, passmanager_ir, state, callback)\u001b[0m\n\u001b[0;32m     97\u001b[0m \u001b[38;5;28;01mif\u001b[39;00m \u001b[38;5;28mself\u001b[39m \u001b[38;5;129;01mnot\u001b[39;00m \u001b[38;5;129;01min\u001b[39;00m state\u001b[38;5;241m.\u001b[39mworkflow_status\u001b[38;5;241m.\u001b[39mcompleted_passes:\n\u001b[1;32m---> 98\u001b[0m     ret \u001b[38;5;241m=\u001b[39m \u001b[38;5;28;43mself\u001b[39;49m\u001b[38;5;241;43m.\u001b[39;49m\u001b[43mrun\u001b[49m\u001b[43m(\u001b[49m\u001b[43mpassmanager_ir\u001b[49m\u001b[43m)\u001b[49m\n\u001b[0;32m     99\u001b[0m     run_state \u001b[38;5;241m=\u001b[39m RunState\u001b[38;5;241m.\u001b[39mSUCCESS\n",
      "File \u001b[1;32mc:\\Users\\ffuidio\\anaconda3\\envs\\qc_course\\Lib\\site-packages\\qiskit\\transpiler\\passes\\basis\\basis_translator.py:129\u001b[0m, in \u001b[0;36mBasisTranslator.run\u001b[1;34m(self, dag)\u001b[0m\n\u001b[0;32m    117\u001b[0m \u001b[38;5;250m\u001b[39m\u001b[38;5;124;03m\"\"\"Translate an input DAGCircuit to the target basis.\u001b[39;00m\n\u001b[0;32m    118\u001b[0m \n\u001b[0;32m    119\u001b[0m \u001b[38;5;124;03mArgs:\u001b[39;00m\n\u001b[1;32m   (...)\u001b[0m\n\u001b[0;32m    126\u001b[0m \u001b[38;5;124;03m    DAGCircuit: translated circuit.\u001b[39;00m\n\u001b[0;32m    127\u001b[0m \u001b[38;5;124;03m\"\"\"\u001b[39;00m\n\u001b[1;32m--> 129\u001b[0m \u001b[38;5;28;01mreturn\u001b[39;00m \u001b[43mbase_run\u001b[49m\u001b[43m(\u001b[49m\n\u001b[0;32m    130\u001b[0m \u001b[43m    \u001b[49m\u001b[43mdag\u001b[49m\u001b[43m,\u001b[49m\n\u001b[0;32m    131\u001b[0m \u001b[43m    \u001b[49m\u001b[38;5;28;43mself\u001b[39;49m\u001b[38;5;241;43m.\u001b[39;49m\u001b[43m_equiv_lib\u001b[49m\u001b[43m,\u001b[49m\n\u001b[0;32m    132\u001b[0m \u001b[43m    \u001b[49m\u001b[38;5;28;43mself\u001b[39;49m\u001b[38;5;241;43m.\u001b[39;49m\u001b[43m_qargs_with_non_global_operation\u001b[49m\u001b[43m,\u001b[49m\n\u001b[0;32m    133\u001b[0m \u001b[43m    \u001b[49m\u001b[38;5;28;43mself\u001b[39;49m\u001b[38;5;241;43m.\u001b[39;49m\u001b[43m_min_qubits\u001b[49m\u001b[43m,\u001b[49m\n\u001b[0;32m    134\u001b[0m \u001b[43m    \u001b[49m\u001b[38;5;28;43;01mNone\u001b[39;49;00m\u001b[43m \u001b[49m\u001b[38;5;28;43;01mif\u001b[39;49;00m\u001b[43m \u001b[49m\u001b[38;5;28;43mself\u001b[39;49m\u001b[38;5;241;43m.\u001b[39;49m\u001b[43m_target_basis\u001b[49m\u001b[43m \u001b[49m\u001b[38;5;129;43;01mis\u001b[39;49;00m\u001b[43m \u001b[49m\u001b[38;5;28;43;01mNone\u001b[39;49;00m\u001b[43m \u001b[49m\u001b[38;5;28;43;01melse\u001b[39;49;00m\u001b[43m \u001b[49m\u001b[38;5;28;43mset\u001b[39;49m\u001b[43m(\u001b[49m\u001b[38;5;28;43mself\u001b[39;49m\u001b[38;5;241;43m.\u001b[39;49m\u001b[43m_target_basis\u001b[49m\u001b[43m)\u001b[49m\u001b[43m,\u001b[49m\n\u001b[0;32m    135\u001b[0m \u001b[43m    \u001b[49m\u001b[38;5;28;43mself\u001b[39;49m\u001b[38;5;241;43m.\u001b[39;49m\u001b[43m_target\u001b[49m\u001b[43m,\u001b[49m\n\u001b[0;32m    136\u001b[0m \u001b[43m    \u001b[49m\u001b[38;5;28;43;01mNone\u001b[39;49;00m\u001b[43m \u001b[49m\u001b[38;5;28;43;01mif\u001b[39;49;00m\u001b[43m \u001b[49m\u001b[38;5;28;43mself\u001b[39;49m\u001b[38;5;241;43m.\u001b[39;49m\u001b[43m_non_global_operations\u001b[49m\u001b[43m \u001b[49m\u001b[38;5;129;43;01mis\u001b[39;49;00m\u001b[43m \u001b[49m\u001b[38;5;28;43;01mNone\u001b[39;49;00m\u001b[43m \u001b[49m\u001b[38;5;28;43;01melse\u001b[39;49;00m\u001b[43m \u001b[49m\u001b[38;5;28;43mset\u001b[39;49m\u001b[43m(\u001b[49m\u001b[38;5;28;43mself\u001b[39;49m\u001b[38;5;241;43m.\u001b[39;49m\u001b[43m_non_global_operations\u001b[49m\u001b[43m)\u001b[49m\u001b[43m,\u001b[49m\n\u001b[0;32m    137\u001b[0m \u001b[43m\u001b[49m\u001b[43m)\u001b[49m\n",
      "\u001b[1;31mTranspilerError\u001b[0m: 'Unable to translate the operations in the circuit: [\"GPi\", \"x\", \"z\"] to the backend\\'s (or manually specified) target basis: {\"switch_case\", \"if_else\", \"GPi2\", \"delay\", \"while_loop\", \"measure\", \"GPi\", \"rz\", \"store\", \"barrier\", \"for_loop\", \"reset\", \"snapshot\"}. This likely means the target basis is not universal or there are additional equivalence rules needed in the EquivalenceLibrary being used. For more details on this error see: https://docs.quantum.ibm.com/api/qiskit/qiskit.transpiler.passes. BasisTranslator#translation-errors'",
      "\nThe above exception was the direct cause of the following exception:\n",
      "\u001b[1;31mTranspilerError\u001b[0m                           Traceback (most recent call last)",
      "Cell \u001b[1;32mIn[94], line 1\u001b[0m\n\u001b[1;32m----> 1\u001b[0m tqc \u001b[38;5;241m=\u001b[39m \u001b[43mtranspile\u001b[49m\u001b[43m(\u001b[49m\u001b[43mbc\u001b[49m\u001b[43m,\u001b[49m\u001b[43m \u001b[49m\u001b[43mbasis_gates\u001b[49m\u001b[38;5;241;43m=\u001b[39;49m\u001b[43m[\u001b[49m\u001b[38;5;124;43m'\u001b[39;49m\u001b[38;5;124;43mGPi\u001b[39;49m\u001b[38;5;124;43m'\u001b[39;49m\u001b[43m,\u001b[49m\u001b[43m \u001b[49m\u001b[38;5;124;43m'\u001b[39;49m\u001b[38;5;124;43mGPi2\u001b[39;49m\u001b[38;5;124;43m'\u001b[39;49m\u001b[43m,\u001b[49m\u001b[43m \u001b[49m\u001b[38;5;124;43m'\u001b[39;49m\u001b[38;5;124;43mrz\u001b[39;49m\u001b[38;5;124;43m'\u001b[39;49m\u001b[43m]\u001b[49m\u001b[43m)\u001b[49m\n",
      "File \u001b[1;32mc:\\Users\\ffuidio\\anaconda3\\envs\\qc_course\\Lib\\site-packages\\qiskit\\utils\\deprecation.py:184\u001b[0m, in \u001b[0;36mdeprecate_arg.<locals>.decorator.<locals>.wrapper\u001b[1;34m(*args, **kwargs)\u001b[0m\n\u001b[0;32m    171\u001b[0m \u001b[38;5;129m@functools\u001b[39m\u001b[38;5;241m.\u001b[39mwraps(func)\n\u001b[0;32m    172\u001b[0m \u001b[38;5;28;01mdef\u001b[39;00m \u001b[38;5;21mwrapper\u001b[39m(\u001b[38;5;241m*\u001b[39margs, \u001b[38;5;241m*\u001b[39m\u001b[38;5;241m*\u001b[39mkwargs):\n\u001b[0;32m    173\u001b[0m     _maybe_warn_and_rename_kwarg(\n\u001b[0;32m    174\u001b[0m         args,\n\u001b[0;32m    175\u001b[0m         kwargs,\n\u001b[1;32m   (...)\u001b[0m\n\u001b[0;32m    182\u001b[0m         predicate\u001b[38;5;241m=\u001b[39mpredicate,\n\u001b[0;32m    183\u001b[0m     )\n\u001b[1;32m--> 184\u001b[0m     \u001b[38;5;28;01mreturn\u001b[39;00m \u001b[43mfunc\u001b[49m\u001b[43m(\u001b[49m\u001b[38;5;241;43m*\u001b[39;49m\u001b[43margs\u001b[49m\u001b[43m,\u001b[49m\u001b[43m \u001b[49m\u001b[38;5;241;43m*\u001b[39;49m\u001b[38;5;241;43m*\u001b[39;49m\u001b[43mkwargs\u001b[49m\u001b[43m)\u001b[49m\n",
      "File \u001b[1;32mc:\\Users\\ffuidio\\anaconda3\\envs\\qc_course\\Lib\\site-packages\\qiskit\\utils\\deprecation.py:184\u001b[0m, in \u001b[0;36mdeprecate_arg.<locals>.decorator.<locals>.wrapper\u001b[1;34m(*args, **kwargs)\u001b[0m\n\u001b[0;32m    171\u001b[0m \u001b[38;5;129m@functools\u001b[39m\u001b[38;5;241m.\u001b[39mwraps(func)\n\u001b[0;32m    172\u001b[0m \u001b[38;5;28;01mdef\u001b[39;00m \u001b[38;5;21mwrapper\u001b[39m(\u001b[38;5;241m*\u001b[39margs, \u001b[38;5;241m*\u001b[39m\u001b[38;5;241m*\u001b[39mkwargs):\n\u001b[0;32m    173\u001b[0m     _maybe_warn_and_rename_kwarg(\n\u001b[0;32m    174\u001b[0m         args,\n\u001b[0;32m    175\u001b[0m         kwargs,\n\u001b[1;32m   (...)\u001b[0m\n\u001b[0;32m    182\u001b[0m         predicate\u001b[38;5;241m=\u001b[39mpredicate,\n\u001b[0;32m    183\u001b[0m     )\n\u001b[1;32m--> 184\u001b[0m     \u001b[38;5;28;01mreturn\u001b[39;00m \u001b[43mfunc\u001b[49m\u001b[43m(\u001b[49m\u001b[38;5;241;43m*\u001b[39;49m\u001b[43margs\u001b[49m\u001b[43m,\u001b[49m\u001b[43m \u001b[49m\u001b[38;5;241;43m*\u001b[39;49m\u001b[38;5;241;43m*\u001b[39;49m\u001b[43mkwargs\u001b[49m\u001b[43m)\u001b[49m\n",
      "    \u001b[1;31m[... skipping similar frames: deprecate_arg.<locals>.decorator.<locals>.wrapper at line 184 (1 times)]\u001b[0m\n",
      "File \u001b[1;32mc:\\Users\\ffuidio\\anaconda3\\envs\\qc_course\\Lib\\site-packages\\qiskit\\utils\\deprecation.py:184\u001b[0m, in \u001b[0;36mdeprecate_arg.<locals>.decorator.<locals>.wrapper\u001b[1;34m(*args, **kwargs)\u001b[0m\n\u001b[0;32m    171\u001b[0m \u001b[38;5;129m@functools\u001b[39m\u001b[38;5;241m.\u001b[39mwraps(func)\n\u001b[0;32m    172\u001b[0m \u001b[38;5;28;01mdef\u001b[39;00m \u001b[38;5;21mwrapper\u001b[39m(\u001b[38;5;241m*\u001b[39margs, \u001b[38;5;241m*\u001b[39m\u001b[38;5;241m*\u001b[39mkwargs):\n\u001b[0;32m    173\u001b[0m     _maybe_warn_and_rename_kwarg(\n\u001b[0;32m    174\u001b[0m         args,\n\u001b[0;32m    175\u001b[0m         kwargs,\n\u001b[1;32m   (...)\u001b[0m\n\u001b[0;32m    182\u001b[0m         predicate\u001b[38;5;241m=\u001b[39mpredicate,\n\u001b[0;32m    183\u001b[0m     )\n\u001b[1;32m--> 184\u001b[0m     \u001b[38;5;28;01mreturn\u001b[39;00m \u001b[43mfunc\u001b[49m\u001b[43m(\u001b[49m\u001b[38;5;241;43m*\u001b[39;49m\u001b[43margs\u001b[49m\u001b[43m,\u001b[49m\u001b[43m \u001b[49m\u001b[38;5;241;43m*\u001b[39;49m\u001b[38;5;241;43m*\u001b[39;49m\u001b[43mkwargs\u001b[49m\u001b[43m)\u001b[49m\n",
      "File \u001b[1;32mc:\\Users\\ffuidio\\anaconda3\\envs\\qc_course\\Lib\\site-packages\\qiskit\\compiler\\transpiler.py:449\u001b[0m, in \u001b[0;36mtranspile\u001b[1;34m(circuits, backend, basis_gates, inst_map, coupling_map, backend_properties, initial_layout, layout_method, routing_method, translation_method, scheduling_method, instruction_durations, dt, approximation_degree, timing_constraints, seed_transpiler, optimization_level, callback, output_name, unitary_synthesis_method, unitary_synthesis_plugin_config, target, hls_config, init_method, optimization_method, ignore_backend_supplied_default_methods, num_processes, qubits_initially_zero)\u001b[0m\n\u001b[0;32m    417\u001b[0m     warnings\u001b[38;5;241m.\u001b[39mfilterwarnings(\n\u001b[0;32m    418\u001b[0m         \u001b[38;5;124m\"\u001b[39m\u001b[38;5;124mignore\u001b[39m\u001b[38;5;124m\"\u001b[39m,\n\u001b[0;32m    419\u001b[0m         category\u001b[38;5;241m=\u001b[39m\u001b[38;5;167;01mDeprecationWarning\u001b[39;00m,\n\u001b[0;32m    420\u001b[0m         message\u001b[38;5;241m=\u001b[39m\u001b[38;5;124m\"\u001b[39m\u001b[38;5;124m.*``backend_properties`` is deprecated as of Qiskit 1.3.*\u001b[39m\u001b[38;5;124m\"\u001b[39m,\n\u001b[0;32m    421\u001b[0m         module\u001b[38;5;241m=\u001b[39m\u001b[38;5;124m\"\u001b[39m\u001b[38;5;124mqiskit\u001b[39m\u001b[38;5;124m\"\u001b[39m,\n\u001b[0;32m    422\u001b[0m     )\n\u001b[0;32m    423\u001b[0m     pm \u001b[38;5;241m=\u001b[39m generate_preset_pass_manager(\n\u001b[0;32m    424\u001b[0m         optimization_level,\n\u001b[0;32m    425\u001b[0m         target\u001b[38;5;241m=\u001b[39mtarget,\n\u001b[1;32m   (...)\u001b[0m\n\u001b[0;32m    446\u001b[0m         qubits_initially_zero\u001b[38;5;241m=\u001b[39mqubits_initially_zero,\n\u001b[0;32m    447\u001b[0m     )\n\u001b[1;32m--> 449\u001b[0m out_circuits \u001b[38;5;241m=\u001b[39m \u001b[43mpm\u001b[49m\u001b[38;5;241;43m.\u001b[39;49m\u001b[43mrun\u001b[49m\u001b[43m(\u001b[49m\u001b[43mcircuits\u001b[49m\u001b[43m,\u001b[49m\u001b[43m \u001b[49m\u001b[43mcallback\u001b[49m\u001b[38;5;241;43m=\u001b[39;49m\u001b[43mcallback\u001b[49m\u001b[43m,\u001b[49m\u001b[43m \u001b[49m\u001b[43mnum_processes\u001b[49m\u001b[38;5;241;43m=\u001b[39;49m\u001b[43mnum_processes\u001b[49m\u001b[43m)\u001b[49m\n\u001b[0;32m    451\u001b[0m \u001b[38;5;28;01mfor\u001b[39;00m name, circ \u001b[38;5;129;01min\u001b[39;00m \u001b[38;5;28mzip\u001b[39m(output_name, out_circuits):\n\u001b[0;32m    452\u001b[0m     circ\u001b[38;5;241m.\u001b[39mname \u001b[38;5;241m=\u001b[39m name\n",
      "File \u001b[1;32mc:\\Users\\ffuidio\\anaconda3\\envs\\qc_course\\Lib\\site-packages\\qiskit\\transpiler\\passmanager.py:441\u001b[0m, in \u001b[0;36mStagedPassManager.run\u001b[1;34m(self, circuits, output_name, callback, num_processes)\u001b[0m\n\u001b[0;32m    433\u001b[0m \u001b[38;5;28;01mdef\u001b[39;00m \u001b[38;5;21mrun\u001b[39m(\n\u001b[0;32m    434\u001b[0m     \u001b[38;5;28mself\u001b[39m,\n\u001b[0;32m    435\u001b[0m     circuits: _CircuitsT,\n\u001b[1;32m   (...)\u001b[0m\n\u001b[0;32m    438\u001b[0m     num_processes: \u001b[38;5;28mint\u001b[39m \u001b[38;5;241m=\u001b[39m \u001b[38;5;28;01mNone\u001b[39;00m,\n\u001b[0;32m    439\u001b[0m ) \u001b[38;5;241m-\u001b[39m\u001b[38;5;241m>\u001b[39m _CircuitsT:\n\u001b[0;32m    440\u001b[0m     \u001b[38;5;28mself\u001b[39m\u001b[38;5;241m.\u001b[39m_update_passmanager()\n\u001b[1;32m--> 441\u001b[0m     \u001b[38;5;28;01mreturn\u001b[39;00m \u001b[38;5;28;43msuper\u001b[39;49m\u001b[43m(\u001b[49m\u001b[43m)\u001b[49m\u001b[38;5;241;43m.\u001b[39;49m\u001b[43mrun\u001b[49m\u001b[43m(\u001b[49m\u001b[43mcircuits\u001b[49m\u001b[43m,\u001b[49m\u001b[43m \u001b[49m\u001b[43moutput_name\u001b[49m\u001b[43m,\u001b[49m\u001b[43m \u001b[49m\u001b[43mcallback\u001b[49m\u001b[43m,\u001b[49m\u001b[43m \u001b[49m\u001b[43mnum_processes\u001b[49m\u001b[38;5;241;43m=\u001b[39;49m\u001b[43mnum_processes\u001b[49m\u001b[43m)\u001b[49m\n",
      "File \u001b[1;32mc:\\Users\\ffuidio\\anaconda3\\envs\\qc_course\\Lib\\site-packages\\qiskit\\transpiler\\passmanager.py:466\u001b[0m, in \u001b[0;36m_replace_error.<locals>.wrapper\u001b[1;34m(*meth_args, **meth_kwargs)\u001b[0m\n\u001b[0;32m    464\u001b[0m     \u001b[38;5;28;01mreturn\u001b[39;00m meth(\u001b[38;5;241m*\u001b[39mmeth_args, \u001b[38;5;241m*\u001b[39m\u001b[38;5;241m*\u001b[39mmeth_kwargs)\n\u001b[0;32m    465\u001b[0m \u001b[38;5;28;01mexcept\u001b[39;00m PassManagerError \u001b[38;5;28;01mas\u001b[39;00m ex:\n\u001b[1;32m--> 466\u001b[0m     \u001b[38;5;28;01mraise\u001b[39;00m TranspilerError(ex\u001b[38;5;241m.\u001b[39mmessage) \u001b[38;5;28;01mfrom\u001b[39;00m \u001b[38;5;21;01mex\u001b[39;00m\n",
      "\u001b[1;31mTranspilerError\u001b[0m: 'Unable to translate the operations in the circuit: [\"GPi\", \"x\", \"z\"] to the backend\\'s (or manually specified) target basis: {\"switch_case\", \"if_else\", \"GPi2\", \"delay\", \"while_loop\", \"measure\", \"GPi\", \"rz\", \"store\", \"barrier\", \"for_loop\", \"reset\", \"snapshot\"}. This likely means the target basis is not universal or there are additional equivalence rules needed in the EquivalenceLibrary being used. For more details on this error see: https://docs.quantum.ibm.com/api/qiskit/qiskit.transpiler.passes. BasisTranslator#translation-errors'"
     ]
    }
   ],
   "source": [
    "tqc = transpile(bc, basis_gates=['GPi', 'GPi2', 'rz'])"
   ]
  },
  {
   "cell_type": "code",
   "execution_count": 99,
   "metadata": {},
   "outputs": [
    {
     "name": "stdout",
     "output_type": "stream",
     "text": [
      "2\n"
     ]
    },
    {
     "data": {
      "image/png": "[encoded data removed]",
      "text/plain": [
       "<Figure size 269.064x117.056 with 1 Axes>"
      ]
     },
     "execution_count": 99,
     "metadata": {},
     "output_type": "execute_result"
    }
   ],
   "source": [
    "import qiskit.circuit.random\n",
    "import qiskit_ionq\n",
    "import numpy as np\n",
    "from qiskit import QuantumCircuit, transpile\n",
    "import matplotlib.pyplot as plt\n",
    "\n",
    "\n",
    "def compile_to_ionq_native_gates(qc, check=False):\n",
    "    qc_new = transpile(qc, basis_gates=[\"id\", \"rx\", \"ry\", \"rz\", \"cx\"])\n",
    "    qc_new = cnot_to_msgate(qc_new, check=check)\n",
    "    qc_new = rx_ry_to_rz(qc_new, check=check)\n",
    "    qc_new = rx_ry_trivial_phases_to_gpigates(qc_new, check=check)\n",
    "    qc_new = consume_rz_gates(qc_new, check=check)\n",
    "    return qc_new\n",
    "\n",
    "\n",
    "def check_qc_compilation(qc1, qc2):\n",
    "    qc1_unitary = qiskit.quantum_info.Operator(qc1).data\n",
    "    qc2_unitary = qiskit.quantum_info.Operator(qc2).data\n",
    "    identity = np.eye(*qc2_unitary.shape)\n",
    "    prod = np.conj(qc2_unitary).T @ qc1_unitary\n",
    "    global_phase = prod[0][0]\n",
    "    prod *= np.conj(global_phase)\n",
    "    assert np.allclose(prod, identity)\n",
    "\n",
    "\n",
    "def cnot_to_msgate(qc, check=False):\n",
    "    qc_new = QuantumCircuit(qc.qregs[0])\n",
    "    for gate in qc.data:\n",
    "        if gate.operation.name == \"cx\":\n",
    "            control = gate.qubits[0]\n",
    "            target = gate.qubits[1]\n",
    "            qc_new.ry(np.pi / 2, control)\n",
    "            qc_new.append(qiskit_ionq.MSGate(0, 0, 1 / 4), [control, target])\n",
    "            qc_new.rx(-np.pi / 2, control)\n",
    "            qc_new.rx(-np.pi / 2, target)\n",
    "            qc_new.ry(-np.pi / 2, control)\n",
    "        else:\n",
    "            qc_new.append(gate)\n",
    "    if check:\n",
    "        check_qc_compilation(qc_new, qc)\n",
    "    return qc_new\n",
    "\n",
    "\n",
    "def rx_ry_to_rz(qc, check=False):\n",
    "    qc_new = QuantumCircuit(qc.qregs[0])\n",
    "    trivial_phases = np.array([0, 1 / 2, 1, 3 / 2]) * np.pi\n",
    "    for gate in qc.data:\n",
    "        if gate.operation.name == \"rx\":\n",
    "            phase = gate.operation.params[0]\n",
    "            if np.all(np.abs((trivial_phases - phase) % (2 * np.pi)) > 1e-7):\n",
    "                qubit = gate.qubits[0]\n",
    "                qc_new.ry(-np.pi / 2, qubit)\n",
    "                qc_new.rz(phase, qubit)\n",
    "                qc_new.ry(np.pi / 2, qubit)\n",
    "            else:\n",
    "                qc_new.append(gate)\n",
    "        elif gate.operation.name == \"ry\":\n",
    "            phase = gate.operation.params[0]\n",
    "            if np.all(np.abs((trivial_phases - phase) % (2 * np.pi)) > 1e-7):\n",
    "                qubit = gate.qubits[0]\n",
    "                qc_new.rx(np.pi / 2, qubit)\n",
    "                qc_new.rz(phase, qubit)\n",
    "                qc_new.rx(-np.pi / 2, qubit)\n",
    "            else:\n",
    "                qc_new.append(gate)\n",
    "        else:\n",
    "            qc_new.append(gate)\n",
    "    if check:\n",
    "        check_qc_compilation(qc_new, qc)\n",
    "    return qc_new\n",
    "\n",
    "\n",
    "def rx_ry_trivial_phases_to_gpigates(qc, check=False):\n",
    "    qc_new = QuantumCircuit(qc.qregs[0])\n",
    "    for gate in qc.data:\n",
    "        if gate.operation.name == \"rx\":\n",
    "            phase = gate.operation.params[0] % (2 * np.pi)\n",
    "            qubit = gate.qubits[0]\n",
    "            if abs(phase) < 1e-7 or abs(phase - (2 * np.pi)) < 1e-7:\n",
    "                pass\n",
    "            elif abs(phase - np.pi / 2) < 1e-7:\n",
    "                qc_new.append(qiskit_ionq.GPI2Gate(0), [qubit])\n",
    "            elif abs(phase - np.pi) < 1e-7:\n",
    "                qc_new.append(qiskit_ionq.GPIGate(0), [qubit])\n",
    "            elif abs(phase - 3 / 2 * np.pi) < 1e-7:\n",
    "                qc_new.append(qiskit_ionq.GPI2Gate(1 / 2), [qubit])\n",
    "        elif gate.operation.name == \"ry\":\n",
    "            phase = gate.operation.params[0] % (2 * np.pi)\n",
    "            qubit = gate.qubits[0]\n",
    "            if abs(phase) < 1e-7 or abs(phase - (2 * np.pi)) < 1e-7:\n",
    "                pass\n",
    "            elif abs(phase - np.pi / 2) < 1e-7:\n",
    "                qc_new.append(qiskit_ionq.GPI2Gate(1 / 4), [qubit])\n",
    "            elif abs(phase - np.pi) < 1e-7:\n",
    "                qc_new.append(qiskit_ionq.GPIGate(1 / 4), [qubit])\n",
    "            elif abs(phase - 3 / 2 * np.pi) < 1e-7:\n",
    "                qc_new.append(qiskit_ionq.GPI2Gate(3 / 4), [qubit])\n",
    "        else:\n",
    "            qc_new.append(gate)\n",
    "    if check:\n",
    "        check_qc_compilation(qc_new, qc)\n",
    "    return qc_new\n",
    "\n",
    "\n",
    "def consume_rz_gates(qc, check=False):\n",
    "    qubit_phases = [0] * len(qc.qubits)\n",
    "    qc_new = QuantumCircuit(qc.qregs[0])\n",
    "    for gate in qc.data:\n",
    "        if gate.operation.name == \"rz\":\n",
    "            index = gate.qubits[0]._index\n",
    "            qubit_phases[index] += gate.operation.params[0]\n",
    "        elif gate.operation.name == \"gpi\":\n",
    "            index = gate.qubits[0]._index\n",
    "            phase = (gate.operation.params[0] - qubit_phases[index] / (2 * np.pi)) % 1.0\n",
    "            qc_new.append(qiskit_ionq.GPIGate(phase), [index])\n",
    "        elif gate.operation.name == \"gpi2\":\n",
    "            index = gate.qubits[0]._index\n",
    "            phase = (gate.operation.params[0] - qubit_phases[index] / (2 * np.pi)) % 1.0\n",
    "            qc_new.append(qiskit_ionq.GPI2Gate(phase), [index])\n",
    "        elif gate.operation.name == \"ms\":\n",
    "            indices = [gate.qubits[0]._index, gate.qubits[1]._index]\n",
    "            assert gate.operation.params[0] == 0 and gate.operation.params[1] == 0\n",
    "            assert gate.operation.params[2] == 1 / 4\n",
    "            phase_0 = (-qubit_phases[indices[0]] / (2 * np.pi)) % 1.0\n",
    "            phase_1 = (-qubit_phases[indices[1]] / (2 * np.pi)) % 1.0\n",
    "            qc_new.append(qiskit_ionq.MSGate(phase_0, phase_1, 1 / 4), indices)\n",
    "        else:\n",
    "            raise ValueError\n",
    "    if check:\n",
    "        qc_check = qc_new.copy()\n",
    "        for i, phase in enumerate(qubit_phases):\n",
    "            qc_check.rz(phase, i)\n",
    "        check_qc_compilation(qc_check, qc)\n",
    "    return qc_new\n",
    "\n",
    "\n",
    "qc_compiled = compile_to_ionq_native_gates(bc, check=True)\n",
    "qc.draw(output=\"mpl\")\n",
    "print(qc_compiled.depth())\n",
    "qc_compiled.draw(output=\"mpl\")"
   ]
  }
 ],
 "metadata": {
  "kernelspec": {
   "display_name": "qc_course",
   "language": "python",
   "name": "python3"
  },
  "language_info": {
   "codemirror_mode": {
    "name": "ipython",
    "version": 3
   },
   "file_extension": ".py",
   "mimetype": "text/x-python",
   "name": "python",
   "nbconvert_exporter": "python",
   "pygments_lexer": "ipython3",
   "version": "3.12.3"
  }
 },
 "nbformat": 4,
 "nbformat_minor": 2
}
