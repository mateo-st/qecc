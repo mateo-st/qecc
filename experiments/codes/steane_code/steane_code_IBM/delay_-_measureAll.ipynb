{
 "cells": [
  {
   "cell_type": "code",
   "execution_count": null,
   "metadata": {},
   "outputs": [],
   "source": [
    "import numpy as np\n",
    "from qiskit.circuit import Delay\n",
    "from qiskit_ibm_runtime import QiskitRuntimeService\n",
    "from qiskit_ibm_runtime import SamplerV2\n",
    "from qiskit_ibm_runtime import QiskitRuntimeService\n",
    "import warnings\n",
    "from qiskit.primitives import StatevectorSampler\n",
    "\n",
    "import sys\n",
    "import os\n",
    "\n",
    "# Add \"../../..\" to the sys.path to use SteaneCodeCircuit class\n",
    "sys.path.append(os.path.abspath(\"../../..\"))\n",
    "sys.path.append(os.path.abspath(\"..\"))\n",
    "from objects.steane_code_circuit import SteaneCodeCircuit\n",
    "from functions.transpile import get_layout\n",
    "from utils import get_transpile, TVD, load_experiment, run_experiment"
   ]
  },
  {
   "cell_type": "code",
   "execution_count": null,
   "metadata": {},
   "outputs": [],
   "source": [
    "ibm_token = \"\"\n",
    "service = QiskitRuntimeService(channel=\"ibm_quantum\", token=ibm_token)"
   ]
  },
  {
   "cell_type": "code",
   "execution_count": null,
   "metadata": {},
   "outputs": [],
   "source": [
    "# Select backend\n",
    "backend_name = 'ibm_sherbrooke'\n",
    "backend = service.backend(backend_name)\n",
    "sampler = SamplerV2(backend)\n",
    "shots = 12800"
   ]
  },
  {
   "cell_type": "code",
   "execution_count": null,
   "metadata": {},
   "outputs": [],
   "source": [
    "# Get the dt of the selected backend in nano seconds\n",
    "print(f\" > dt in seconds: {backend.configuration().dt} s\")\n",
    "dt = backend.configuration().dt * 10**9\n",
    "print(f\" > dt in ns: {round(dt, 3)} ns\")"
   ]
  },
  {
   "cell_type": "code",
   "execution_count": null,
   "metadata": {},
   "outputs": [],
   "source": [
    "t_array = [t*9_000 for t in range(0, 100, 10)]\n",
    "print(f\" > Delays in dt: {t_array}\")\n",
    "print(f\" > Delays un us: {[round(t*dt * 10**(-3) , 3) for t in t_array]}\")"
   ]
  },
  {
   "cell_type": "code",
   "execution_count": null,
   "metadata": {},
   "outputs": [],
   "source": [
    "# Load experiment of delay without initial layout:\n",
    "\n",
    "state = '-'\n",
    "basis = 'all'\n",
    "error_correction = False\n",
    "\n",
    "logical_operations = None\n",
    "initial_layout = None\n",
    "t_array_unit = 'dt' # Is dt by default\n",
    "\n",
    "circuits, qc_circuits, initial_layout, estimated_durations = load_experiment(\n",
    "    state, \n",
    "    basis, \n",
    "    error_correction, \n",
    "    backend, \n",
    "    transpile_iterations=10,\n",
    "    t_array=t_array, \n",
    "    t_array_unit = t_array_unit,\n",
    "    logical_operations = logical_operations, \n",
    "    initial_layout=initial_layout)"
   ]
  },
  {
   "cell_type": "code",
   "execution_count": null,
   "metadata": {},
   "outputs": [],
   "source": [
    "qc_circuits[0].draw(\"mpl\")"
   ]
  },
  {
   "cell_type": "code",
   "execution_count": null,
   "metadata": {},
   "outputs": [],
   "source": [
    "# Define the valid states for the experiment\n",
    "valid_states = ['0000000', '0001111', '0110011', '0111100', '1010101', '1011010', '1100110', '1101001',\n",
    "                '1111111', '1110000', '1001100', '1000011', '0101010', '0100101', '0011001', '0010110']\n",
    "\n",
    "expected_distribution = {}\n",
    "for i in valid_states:\n",
    "    expected_distribution[i] = 1/len(valid_states)\n",
    "\n",
    "print(f\" > Expected distribution if there is no errors:\\n {expected_distribution}\")"
   ]
  },
  {
   "cell_type": "code",
   "execution_count": null,
   "metadata": {},
   "outputs": [],
   "source": [
    "experiment_name = 'delay_-_measureAll_noCorrection'\n",
    "json_file = os.path.abspath(\"experiments.json\")\n",
    "encoder_type = 'universal'\n",
    "t_array_unit = 'dt'\n",
    "estimated_durations_units = 'us'\n",
    "\n",
    "run_experiment(\n",
    "    json_file, \n",
    "    experiment_name, \n",
    "    circuits, \n",
    "    shots, \n",
    "    sampler, \n",
    "    expected_distribution, \n",
    "    initial_layout, \n",
    "    estimated_durations, \n",
    "    estimated_durations_units,\n",
    "    encoder_type,\n",
    "    t_array = t_array,\n",
    "    t_array_unit=t_array_unit)"
   ]
  }
 ],
 "metadata": {
  "kernelspec": {
   "display_name": "qc_course",
   "language": "python",
   "name": "python3"
  },
  "language_info": {
   "name": "python",
   "version": "3.12.3"
  }
 },
 "nbformat": 4,
 "nbformat_minor": 2
}
